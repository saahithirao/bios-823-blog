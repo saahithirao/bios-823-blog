{
 "cells": [
  {
   "cell_type": "markdown",
   "metadata": {},
   "source": [
    "# Solving three problems from the Euler Project (with increasing difficulty)"
   ]
  },
  {
   "cell_type": "markdown",
   "metadata": {},
   "source": [
    "### Problem 5: Smallest Multiple  \n",
    "  \n",
    "Description: 2520 is the smallest number that can be divided by each of the numbers from 1 to 10 without any remainder.  \n",
    "What is the smallest positive number that is evenly divisible by all of the numbers from 1 to 20?   \n",
    "  "
   ]
  },
  {
   "cell_type": "markdown",
   "metadata": {},
   "source": [
    "After reading this question, I immediately thought about prime factorization and factor trees. The goal is to program a factor tree and work backwards from the prime factors to calculate the smallest number that is evenly divisible by all numbers from 1 to 20. Note that 2520 has to be divisible by the prime numbers from 1 to 10 in order to be divisible by all numbers 1 to 10 without any remainder. Knowing this, we can save time by not checking whether 2520 is divisible by every number from 1 to 10.  \n",
    "  \n",
    "So to begin, we will define a function to return a list of all the prime numbers from 1 to a given number. This will help us code our factor tree."
   ]
  },
  {
   "cell_type": "code",
   "execution_count": 94,
   "metadata": {},
   "outputs": [],
   "source": [
    "def prime_num(n):\n",
    "    \"\"\"\n",
    "    return list of prime numbers given a number\n",
    "    \"\"\"\n",
    "    primes = []\n",
    "    for number in range(n + 1):\n",
    "        if number > 1:\n",
    "            # prime numbers have to be greater than 1\n",
    "            for i in range(2, number):\n",
    "                if (number % i) == 0:\n",
    "                    # number is not prime (divisible by a number other than one and itself)\n",
    "                    # return to outer for loop and increment by one\n",
    "                    break\n",
    "            else:\n",
    "                # number is prime so add to list\n",
    "                primes.append(number)\n",
    "    return primes"
   ]
  },
  {
   "cell_type": "markdown",
   "metadata": {},
   "source": [
    "Next, the goal is to code a factor tree where the \"ends\" or what is returned are all the prime factors of the given number.  \n",
    "  \n",
    "We will find the prime factors of this given number (n) using knowledge about whether a number is prime in range 1 to n from the above function that returns the prime numbers in range 1 to n. Recursion works well here because we want to break down n into smaller parts each time until n equals 1 and we cannot find any more prime factors. "
   ]
  },
  {
   "cell_type": "code",
   "execution_count": 95,
   "metadata": {},
   "outputs": [],
   "source": [
    "def find_prime_factors(n):\n",
    "    \"\"\"\n",
    "    recursively find prime factors of number given prime numbers in range 1 to that number\n",
    "    \"\"\"\n",
    "    if n == 1:\n",
    "        # base case: if n = 1, there are no more prime factors\n",
    "        return []\n",
    "    for num in prime_numbers:\n",
    "        # loop through each number in the list of prime numbers in range 1 to n\n",
    "        if n % num == 0:\n",
    "            # return the prime factor and use recursion to find next prime factor\n",
    "            return [num] + find_prime_factors(n / num)"
   ]
  },
  {
   "cell_type": "markdown",
   "metadata": {},
   "source": [
    "We will write a final function that uses the two functions we have written. We know the prime numbers from 1 to a given number from the first function. We can also find the prime factors of a number from the second function.  \n",
    "\n",
    "Now, we will find the prime factors of every number below 20 (using the second function). We will keep track of the maximum prime factors. For example, the prime factors of 2 and 3, respectively, are 2 and 3 and the prime factors of 4 are 2 and 2. So, the maximum count of the prime factor 2 is 2 and of 3 is 1 and the prime factors of the smallest number evenly divisible by 2, 3, and 4, are 2, 2, and 3 and NOT 2, 3, 2, and 2. This means the smallest number equals (2)(2)(3) = 12.    \n",
    "\n",
    "Using this same logic, we will use maximum prime factors to calculate the smallest number evenly divisible by all of the numbers from 1 to 20. We will assume that n is 20 and that the range is from 1 to 20.  \n",
    "\n",
    "We recently reviewed the collections module, so we will use that to count the maximum number of each prime factor."
   ]
  },
  {
   "cell_type": "code",
   "execution_count": 81,
   "metadata": {},
   "outputs": [
    {
     "name": "stdout",
     "output_type": "stream",
     "text": [
      "232792560\n"
     ]
    }
   ],
   "source": [
    "from collections import Counter\n",
    "\n",
    "def main():\n",
    "    \"\"\"\n",
    "    print smallest number evenly divisible by all numbers from 1 to 20\n",
    "    \"\"\"\n",
    "    n = 20\n",
    "    prime_numbers = prime_num(n)\n",
    "    max_primes = Counter()\n",
    "    \n",
    "    for i in range(2, 21):\n",
    "        # creating a factor tree for each number from 2 to 20\n",
    "        prime_factors = Counter(find_prime_factors(i))\n",
    "        # keeps maximum of counts of each prime factor\n",
    "        max_primes = prime_factors | max_primes\n",
    "        \n",
    "    smallest_num = 1\n",
    "    for prime, count in max_primes.items():\n",
    "        # based on prime factors, calculate smallest number by multiplying\n",
    "        smallest_num = smallest_num * (prime ** amount)\n",
    "    \n",
    "    print(smallest_num)\n",
    "\n",
    "main()"
   ]
  },
  {
   "cell_type": "markdown",
   "metadata": {},
   "source": [
    "The smallest positive number that is evenly divisible by all of the numbers from 1 to 20 is 232792560."
   ]
  },
  {
   "cell_type": "markdown",
   "metadata": {},
   "source": [
    "### Problem 39: Integer Right Triangles  \n",
    "  \n",
    "Description: If p is the perimeter of a right angle triangle with integral length sides, {a,b,c}, there are exactly three solutions for p = 120.  \n",
    "{20,48,52}, {24,45,51}, {30,40,50}  \n",
    "For which value of p ≤ 1000, is the number of solutions maximised?"
   ]
  },
  {
   "cell_type": "markdown",
   "metadata": {},
   "source": [
    "This question involves pythagorean theorem ($a^2 + b^2 = c^2$). The first step is to define a function that returns the number of solutions that meet the right angle triangle side length definition given a perimeter.  \n",
    "\n",
    "We know that a and b have to be at least 1 and cannot be more than half the perimeter. So, we will use a to loop through all integers from 1 to $p/2$.\n",
    "\n",
    "Given these two equations:  \n",
    "$a^2 + b^2 = c^2$  (pythagorean theorem)   \n",
    "$a + b + c = p$  (definition of perimeter)\n",
    "\n",
    "We can solve for b and c.  \n",
    "1) $a + b + c = p$ --> $b+c = p-a$  \n",
    "2) $a^2 + b^2 = c^2$ --> $c-b = \\frac{a^2}{p-a}$  \n",
    "3) $(c-b) + (c+b) = \\frac{a^2}{p-a} + (p-a)$ --> $c = \\frac{a^2 + (p-a)^2}{2 *(p-a)}$\n",
    "\n",
    "Then, using pythagorean theorem, $b = \\sqrt{c^2 - a^2}$  \n",
    "\n",
    "The final step is to check whether the definition of perimeter is met and make sure we have the correct value for a. "
   ]
  },
  {
   "cell_type": "code",
   "execution_count": 8,
   "metadata": {},
   "outputs": [],
   "source": [
    "def find_side_lengths(p):\n",
    "    \"\"\"\n",
    "    return number of solutions that meet the definition of right angle triangle side lengths given a perimeter\n",
    "    \"\"\"\n",
    "    num_solutions = 0\n",
    "    \n",
    "    # an integer side length of a right triangle has to be at least 1 and not more than half the perimeter\n",
    "    for a in range(1, p//2):\n",
    "        # solve pythagorean theorem for c and b\n",
    "        c = (a**2 + (p-a)**2) // (2 * (p-a))\n",
    "        b = (c**2 - a**2) ** 0.5\n",
    "        \n",
    "        # definition of perimeter\n",
    "        if a + b + c == p:\n",
    "            num_solutions += 1\n",
    "    \n",
    "    # a and b can be switched in a solution, but we only want one solution of possible integral side lengths\n",
    "    return num_solutions//2"
   ]
  },
  {
   "cell_type": "markdown",
   "metadata": {},
   "source": [
    "Next, we want to find the perimeter where the number of solutions, given that we know the number of solutions for a perimeter from the previous equation, is maximized for perimeters ≤ 1000. We will use a dictionary to store the perimeter and the number of solutions for that perimeter. "
   ]
  },
  {
   "cell_type": "code",
   "execution_count": 9,
   "metadata": {},
   "outputs": [
    {
     "name": "stdout",
     "output_type": "stream",
     "text": [
      "840\n"
     ]
    }
   ],
   "source": [
    "def maximized(perimeter):\n",
    "    \"\"\"\n",
    "    print perimeter where the number of solutions is maximized for perimeter <= 1000 \n",
    "    \"\"\"\n",
    "    data = {\"solutions\": 0, \"perimeter\": 0} # store perimeter value and number of solutions\n",
    "    for p in range(perimeter + 1):\n",
    "        # if the number of solutions of the current perimeter is greater than the solutions for all perimeters smaller\n",
    "        # then store that perimeter and the corresponding number of solutions\n",
    "        solutions = find_side_lengths(p)\n",
    "        if solutions > data['solutions']:\n",
    "            data['solutions'] = solutions\n",
    "            data['perimeter'] = p\n",
    "    return data['perimeter']\n",
    "\n",
    "print(maximized(1000))"
   ]
  },
  {
   "cell_type": "markdown",
   "metadata": {},
   "source": [
    "The number of solutions is maximised at a perimeter of 840. "
   ]
  },
  {
   "cell_type": "markdown",
   "metadata": {},
   "source": [
    "### Problem 112: Bouncy Numbers  \n",
    "  \n",
    "Decription: Working from left-to-right if no digit is exceeded by the digit to its left it is called an increasing number; for example, 134468.  \n",
    "  \n",
    "Similarly if no digit is exceeded by the digit to its right it is called a decreasing number; for example, 66420.  \n",
    "  \n",
    "We shall call a positive integer that is neither increasing nor decreasing a \"bouncy\" number; for example, 155349.  \n",
    "  \n",
    "Clearly there cannot be any bouncy numbers below one-hundred, but just over half of the numbers below one-thousand (525) are bouncy. In fact, the least number for which the proportion of bouncy numbers first reaches 50% is 538.  \n",
    "  \n",
    "Surprisingly, bouncy numbers become more and more common and by the time we reach 21780 the proportion of bouncy numbers is equal to 90%.  \n",
    "  \n",
    "Find the least number for which the proportion of bouncy numbers is exactly 99%.  \n",
    "  \n",
    "  \n",
    "The first step is to determine if a number is bouncy. Using the properties of a bouncy number, that it is neither increasing nor decreasing, we will define a function that returns true if the number is bouncy."
   ]
  },
  {
   "cell_type": "code",
   "execution_count": 2,
   "metadata": {},
   "outputs": [],
   "source": [
    "def bouncy(n):\n",
    "    \"\"\"\n",
    "    return true if the number is bouncy and false otherwise\n",
    "    \"\"\"\n",
    "    number = list(map(int, str(n))) # list of digits\n",
    "    increasing = sorted(number) # if number is sorted, it is increasing\n",
    "    decreasing = increasing[::-1] # if numbe is sorted in reverse, it is decreasing\n",
    "    return increasing != number and decreasing != number"
   ]
  },
  {
   "cell_type": "markdown",
   "metadata": {},
   "source": [
    "Next, we will find the least number for which the proportion of bouncy numbers is exactly 99%. \n",
    "  \n",
    "I found that a while loop would work well in this case because we want the loop to run until we find the number when the proportion equals 99%. Each iteration we will check whether the number is bouncy and whether the proportion of bouncy numbers equals 99% beginning at 100. "
   ]
  },
  {
   "cell_type": "code",
   "execution_count": 6,
   "metadata": {},
   "outputs": [
    {
     "name": "stdout",
     "output_type": "stream",
     "text": [
      "1587000\n"
     ]
    }
   ],
   "source": [
    "def prop_bouncy():\n",
    "    \"\"\"\n",
    "    return least number where the proportion of bouncy numbers that is exactly 99%\n",
    "    \"\"\"\n",
    "    total = 100 # no number below 100 is bouncy\n",
    "    bouncy_n = 0 \n",
    "    \n",
    "    # continue finding bouncy numbers until proportion hits 99%\n",
    "    while bouncy_n / total != 0.99:\n",
    "        # determine if number is bouncy then increment count by one if is bouncy\n",
    "        if bouncy(total) is True:\n",
    "            bouncy_n += 1\n",
    "        # if proportion is eactly 99%, return number\n",
    "        if bouncy_n / total == 0.99:\n",
    "            return total\n",
    "        # increment total to continue finding least number\n",
    "        else:\n",
    "            total += 1 \n",
    "            \n",
    "print(prop_bouncy())"
   ]
  },
  {
   "cell_type": "markdown",
   "metadata": {},
   "source": [
    "The least number for which the proportion of bouncy numbers is exactly 99% is 1587000."
   ]
  }
 ],
 "metadata": {
  "kernelspec": {
   "display_name": "Python 3",
   "language": "python",
   "name": "python3"
  },
  "language_info": {
   "codemirror_mode": {
    "name": "ipython",
    "version": 3
   },
   "file_extension": ".py",
   "mimetype": "text/x-python",
   "name": "python",
   "nbconvert_exporter": "python",
   "pygments_lexer": "ipython3",
   "version": "3.7.8"
  }
 },
 "nbformat": 4,
 "nbformat_minor": 4
}
