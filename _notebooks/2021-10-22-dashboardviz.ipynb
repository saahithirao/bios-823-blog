{
 "cells": [
  {
   "cell_type": "markdown",
   "metadata": {},
   "source": [
    "# Visualizing characteristics of doctorate recipients "
   ]
  },
  {
   "cell_type": "markdown",
   "metadata": {},
   "source": [
    "The goal of this blog post is to explain the process of creating a dashboard visalization using *streamlit*. This dashboard visualizes data about doctorate recipients including: demographic information, field of study, and postgraduation plans. Data was collected from the National Center for Science and Engineering Statistics (NCSES) and datasets can be found here: https://ncses.nsf.gov/pubs/nsf19301/data. Analyses were performed using the pandas library and visualizations were created using the matplotlib and plotly libraries along with streamlit's widget features.\n",
    "\n",
    "**View dashboard visualization: https://share.streamlit.io/saahithirao/bios-823-blog/hw4.py** \n",
    "\n",
    "**View code: https://github.com/saahithirao/bios-823-blog/blob/master/hw4.py** This code can be downloaded to a personal machine and run using >>streamlit run hw4.py"
   ]
  },
  {
   "cell_type": "markdown",
   "metadata": {},
   "source": [
    "**Doctorate recipients by gender & race from 2008-2017**  \n",
    "This visualization displays an interactive data table of doctorate recipents by gender and race from 2008 to 2017. The user can click on a year on the sidebar to display data for that year and can select to view data by gender or race. Since there was no dataset that contained all of this information, I opted to combine two different datasets: one that contained data on females and on that contained data on males. I extracted the necessary information to create the visualization, as shown below, and merged the two dataframes. Then, using streamlit's widget features, I created a sidebar that allows the user to select a specific year that they want to see data for and/or filter the data by gender and race to explore the data further and make comparisons. Code for this is shown below and linked above."
   ]
  },
  {
   "cell_type": "code",
   "execution_count": 2,
   "metadata": {},
   "outputs": [
    {
     "data": {
      "text/html": [
       "<div>\n",
       "<style scoped>\n",
       "    .dataframe tbody tr th:only-of-type {\n",
       "        vertical-align: middle;\n",
       "    }\n",
       "\n",
       "    .dataframe tbody tr th {\n",
       "        vertical-align: top;\n",
       "    }\n",
       "\n",
       "    .dataframe thead th {\n",
       "        text-align: right;\n",
       "    }\n",
       "</style>\n",
       "<table border=\"1\" class=\"dataframe\">\n",
       "  <thead>\n",
       "    <tr style=\"text-align: right;\">\n",
       "      <th></th>\n",
       "      <th>Race</th>\n",
       "      <th>2008</th>\n",
       "      <th>2009</th>\n",
       "      <th>2010</th>\n",
       "      <th>2011</th>\n",
       "      <th>2012</th>\n",
       "      <th>2013</th>\n",
       "      <th>2014</th>\n",
       "      <th>2015</th>\n",
       "      <th>2016</th>\n",
       "      <th>2017</th>\n",
       "      <th>Gender</th>\n",
       "    </tr>\n",
       "  </thead>\n",
       "  <tbody>\n",
       "    <tr>\n",
       "      <th>0</th>\n",
       "      <td>All doctorate recipients</td>\n",
       "      <td>22494</td>\n",
       "      <td>23187</td>\n",
       "      <td>22488.0</td>\n",
       "      <td>22700</td>\n",
       "      <td>23527</td>\n",
       "      <td>24366</td>\n",
       "      <td>24816</td>\n",
       "      <td>25354</td>\n",
       "      <td>25256</td>\n",
       "      <td>25495</td>\n",
       "      <td>Female</td>\n",
       "    </tr>\n",
       "    <tr>\n",
       "      <th>1</th>\n",
       "      <td>American Indian or Alaska Native</td>\n",
       "      <td>70</td>\n",
       "      <td>78</td>\n",
       "      <td>65.0</td>\n",
       "      <td>79</td>\n",
       "      <td>65</td>\n",
       "      <td>64</td>\n",
       "      <td>55</td>\n",
       "      <td>77</td>\n",
       "      <td>73</td>\n",
       "      <td>62</td>\n",
       "      <td>Female</td>\n",
       "    </tr>\n",
       "    <tr>\n",
       "      <th>2</th>\n",
       "      <td>Asian</td>\n",
       "      <td>4795</td>\n",
       "      <td>4741</td>\n",
       "      <td>4662.0</td>\n",
       "      <td>4904</td>\n",
       "      <td>5117</td>\n",
       "      <td>5392</td>\n",
       "      <td>5465</td>\n",
       "      <td>5598</td>\n",
       "      <td>5521</td>\n",
       "      <td>5605</td>\n",
       "      <td>Female</td>\n",
       "    </tr>\n",
       "    <tr>\n",
       "      <th>3</th>\n",
       "      <td>Black or African American</td>\n",
       "      <td>1396</td>\n",
       "      <td>1552</td>\n",
       "      <td>1403.0</td>\n",
       "      <td>1396</td>\n",
       "      <td>1481</td>\n",
       "      <td>1554</td>\n",
       "      <td>1503</td>\n",
       "      <td>1660</td>\n",
       "      <td>1662</td>\n",
       "      <td>1756</td>\n",
       "      <td>Female</td>\n",
       "    </tr>\n",
       "    <tr>\n",
       "      <th>4</th>\n",
       "      <td>White</td>\n",
       "      <td>12704</td>\n",
       "      <td>13058</td>\n",
       "      <td>12525.0</td>\n",
       "      <td>12572</td>\n",
       "      <td>12941</td>\n",
       "      <td>13264</td>\n",
       "      <td>13324</td>\n",
       "      <td>13523</td>\n",
       "      <td>13623</td>\n",
       "      <td>13413</td>\n",
       "      <td>Female</td>\n",
       "    </tr>\n",
       "    <tr>\n",
       "      <th>5</th>\n",
       "      <td>More than one race</td>\n",
       "      <td>298</td>\n",
       "      <td>370</td>\n",
       "      <td>418.0</td>\n",
       "      <td>399</td>\n",
       "      <td>484</td>\n",
       "      <td>497</td>\n",
       "      <td>488</td>\n",
       "      <td>535</td>\n",
       "      <td>605</td>\n",
       "      <td>594</td>\n",
       "      <td>Female</td>\n",
       "    </tr>\n",
       "    <tr>\n",
       "      <th>6</th>\n",
       "      <td>Other race or race not reported</td>\n",
       "      <td>222</td>\n",
       "      <td>238</td>\n",
       "      <td>205.0</td>\n",
       "      <td>191</td>\n",
       "      <td>202</td>\n",
       "      <td>204</td>\n",
       "      <td>162</td>\n",
       "      <td>167</td>\n",
       "      <td>193</td>\n",
       "      <td>321</td>\n",
       "      <td>Female</td>\n",
       "    </tr>\n",
       "  </tbody>\n",
       "</table>\n",
       "</div>"
      ],
      "text/plain": [
       "                               Race   2008   2009     2010   2011   2012  \\\n",
       "0          All doctorate recipients  22494  23187  22488.0  22700  23527   \n",
       "1  American Indian or Alaska Native     70     78     65.0     79     65   \n",
       "2                             Asian   4795   4741   4662.0   4904   5117   \n",
       "3         Black or African American   1396   1552   1403.0   1396   1481   \n",
       "4                             White  12704  13058  12525.0  12572  12941   \n",
       "5                More than one race    298    370    418.0    399    484   \n",
       "6   Other race or race not reported    222    238    205.0    191    202   \n",
       "\n",
       "    2013   2014   2015   2016   2017  Gender  \n",
       "0  24366  24816  25354  25256  25495  Female  \n",
       "1     64     55     77     73     62  Female  \n",
       "2   5392   5465   5598   5521   5605  Female  \n",
       "3   1554   1503   1660   1662   1756  Female  \n",
       "4  13264  13324  13523  13623  13413  Female  \n",
       "5    497    488    535    605    594  Female  \n",
       "6    204    162    167    193    321  Female  "
      ]
     },
     "execution_count": 2,
     "metadata": {},
     "output_type": "execute_result"
    }
   ],
   "source": [
    "import pandas as pd\n",
    "df = pd.read_excel(\"https://ncses.nsf.gov/pubs/nsf19301/assets/data/tables/sed17-sr-tab021.xlsx\", header=3)\n",
    "df = df.rename(columns={'Ethnicity, race, and citizenship status':'Race'})\n",
    "df_female = (\n",
    "        df.\n",
    "        drop(df[df['Race'].str.contains('citizen')].index.tolist()).\n",
    "        drop(df[df['Race'].str.contains('visa')].index.tolist()).\n",
    "        drop(df[df['Race'].str.contains('Hispanic')].index.tolist()).\n",
    "        drop(df[df['Race'].str.contains('Ethnicity')].index.tolist()).\n",
    "        reset_index().\n",
    "        drop(columns = ['index'])\n",
    "    )\n",
    "df_female[\"Gender\"] = \"Female\"\n",
    "df_female"
   ]
  },
  {
   "cell_type": "code",
   "execution_count": null,
   "metadata": {},
   "outputs": [],
   "source": [
    "# Creating widget for selecting data by year and gender (separately)\n",
    "st.sidebar.header(\"User Input\")\n",
    "selected_year = st.sidebar.selectbox('Year', list(reversed(range(2008,2017))))\n",
    "phds = load_data(selected_year)\n",
    "unique_gender = phds.Gender.unique()\n",
    "select_gender = st.sidebar.multiselect('Gender', unique_gender, unique_gender)\n",
    "df_selected = phds[(phds.Gender.isin(select_gender))]"
   ]
  },
  {
   "cell_type": "markdown",
   "metadata": {},
   "source": [
    "**Number of doctorate recipients by gender over time**  "
   ]
  },
  {
   "cell_type": "markdown",
   "metadata": {},
   "source": [
    "This visualization displays an interactive plot illustrating number of doctorate recipients over time and separated by gender. The user can hover over points to view data for that year. This plot shows a similar trend over time for males and females with a slight decrease in number of PhDs in 2010 and a steady increase until 2015. The gap, however, between males and females does not seem to be decreasing over time, which shows that there is still a disparity between receiving a doctorate degree by gender. The code below shows how the plot was created."
   ]
  },
  {
   "cell_type": "code",
   "execution_count": null,
   "metadata": {},
   "outputs": [],
   "source": [
    "import plotly.express as px\n",
    "df_select = df_female[df_female[\"Race\"] == \"All doctorate recipients\"]\n",
    "df2 = (df_select.drop(['Gender'], axis=1))\n",
    "df_long = pd.melt(df2,id_vars=['Race'],var_name='Year', value_name='phds')\n",
    "df_long['Gender'] = ['Female']*10\n",
    "\n",
    "df_select_male = df_male[df_male[\"Race\"] == \"All doctorate recipients\"]\n",
    "df3 = (df_select_male.drop(['Gender'], axis=1))\n",
    "df_long2 = pd.melt(df3,id_vars=['Race'],var_name='Year', value_name='phds')\n",
    "df_long2['Gender'] = ['Male']*10\n",
    "\n",
    "df_combine_plot = pd.concat([df_long, df_long2], ignore_index=True)\n",
    "\n",
    "fig = px.line(df_combine_plot, \n",
    "                x='Year', y='phds', color='Gender', \n",
    "                labels = {\n",
    "                    \"phds\": \"Number of PhDs\"\n",
    "                })\n",
    "fig.update_traces(mode='markers+lines')"
   ]
  },
  {
   "cell_type": "markdown",
   "metadata": {},
   "source": [
    "**Summary of doctorate recipients across years by gender**"
   ]
  },
  {
   "cell_type": "markdown",
   "metadata": {},
   "source": [
    "This static data table displays summary statistics of aggregated data across time of doctorate recipients by gender. The table follows from the plot to understand, overall, the trends in receiving a PhD by gender.  "
   ]
  },
  {
   "cell_type": "code",
   "execution_count": null,
   "metadata": {},
   "outputs": [],
   "source": [
    "summary = pd.DataFrame({'Gender': ['Female','Male'],\n",
    "            'Min': [df_long['phds'].min(), df_long2['phds'].min()],\n",
    "            'Mean' : [df_long['phds'].mean(), df_long2['phds'].mean()], \n",
    "            'Median': [df_long['phds'].median(), df_long2['phds'].median()],\n",
    "            'Max': [df_long['phds'].max(), df_long2['phds'].max()]})"
   ]
  },
  {
   "cell_type": "markdown",
   "metadata": {},
   "source": [
    "**Visualizing all doctorate recipients by field of study in 2017**"
   ]
  },
  {
   "cell_type": "markdown",
   "metadata": {},
   "source": [
    "Now, turning to another aspect of the data, we will look closer at doctorates by field of study. This requires a new dataset. The data was transposed and all doctorate recipient information was extracted. In order to visualize number of doctorates by field of study, I created a simple bar plot. The user can hover over bars to display information specific to that field of study. This plot illustrates which fields awarded more PhDs. The code is shown below and the plot is displayed in the dashboard."
   ]
  },
  {
   "cell_type": "code",
   "execution_count": 91,
   "metadata": {},
   "outputs": [],
   "source": [
    "dat = pd.read_excel(\"https://ncses.nsf.gov/pubs/nsf19301/assets/data/tables/sed17-sr-tab054.xlsx\", header=3)\n",
    "dat_all = dat.iloc[[0]]\n",
    "\n",
    "dat_T = dat_all.T\n",
    "dat_T = dat_T.rename(columns=dat_T.iloc[0]).reset_index()\n",
    "dat_T = dat_T.iloc[1:]\n",
    "dat_T\n",
    "\n",
    "fig = px.bar(dat_T, x='index', y='All doctorate recipients (number)c',  \n",
    "             labels={'All doctorate recipients (number)c':'All Doctorates', 'index':'Field of Study'})"
   ]
  },
  {
   "cell_type": "markdown",
   "metadata": {},
   "source": [
    "**Visualizing field of study by gender in 2017**"
   ]
  },
  {
   "cell_type": "markdown",
   "metadata": {},
   "source": [
    "In the visualizations above, we saw the breakdown of number of doctorate recipients by gender. Here, we will take a look at doctorate recipients by gender and field of study. This stacked bar plot was created by transposing the data into a wide format and separate bars were created for males and females. The user can hover over the bars to view data of a specific field by gender. This plot illustrates which fields had a smaller female to male ratio or vice versa. The code is shown below and the figure is displayed in the dashboard linked above. "
   ]
  },
  {
   "cell_type": "code",
   "execution_count": 92,
   "metadata": {},
   "outputs": [],
   "source": [
    "# create stacked bar plot by gender\n",
    "from plotly import graph_objects as go\n",
    "to_plot = dat[dat['Characteristic'].str.contains('ale')]\n",
    "\n",
    "plot = to_plot.T\n",
    "plot2 = (\n",
    "            plot.\n",
    "            rename(columns=plot.iloc[0]).\n",
    "            drop(plot.index[0]).\n",
    "            reset_index().\n",
    "            drop(columns=['Female doctorate recipients (number)', 'Male doctorate recipients (number)'])\n",
    ")\n",
    "\n",
    "fig2 = go.Figure(\n",
    "    data=[\n",
    "        go.Bar(\n",
    "            name=\"Male\",\n",
    "            x=plot2[\"index\"],\n",
    "            y=plot2[\"Male\"],\n",
    "            offsetgroup=1,\n",
    "        ),\n",
    "        go.Bar(\n",
    "            name=\"Female\",\n",
    "            x=plot2[\"index\"],\n",
    "            y=plot2[\"Female\"],\n",
    "            offsetgroup=1,\n",
    "            base=plot2[\"Male\"],\n",
    "            hovertext= [f'Count: {val}' for val in plot2[\"Female\"]]\n",
    "        )\n",
    "    ],\n",
    "    layout=go.Layout(\n",
    "        title=\"Percent of Doctorate Recipients by Broad Field of Study and Gender\",\n",
    "        yaxis_title=\"Percent\"\n",
    "    )\n",
    ")"
   ]
  }
 ],
 "metadata": {
  "kernelspec": {
   "display_name": "Python 3",
   "language": "python",
   "name": "python3"
  },
  "language_info": {
   "codemirror_mode": {
    "name": "ipython",
    "version": 3
   },
   "file_extension": ".py",
   "mimetype": "text/x-python",
   "name": "python",
   "nbconvert_exporter": "python",
   "pygments_lexer": "ipython3",
   "version": "3.7.8"
  }
 },
 "nbformat": 4,
 "nbformat_minor": 4
}
