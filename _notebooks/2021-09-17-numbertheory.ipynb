{
 "cells": [
  {
   "cell_type": "markdown",
   "metadata": {},
   "source": [
    "# Number theory and a Google recruitment puzzle\n",
    "\n",
    "## Find the first 10-digit prime in the decimal expansion of 17π\n",
    "\n",
    "Description: The first 5 digits in the decimal expansion of π are 14159. The first 4-digit prime in the decimal expansion of π are 4159. You are asked to find the first 10-digit prime in the decimal expansion of 17π. "
   ]
  },
  {
   "cell_type": "markdown",
   "metadata": {},
   "source": [
    "There are three main steps to this question.   \n",
    "    1) Generate an arbitrary large expansion of a mathematical expression  \n",
    "    2) Check if a number is prime  \n",
    "    3) Generate sliding windows of a specified width from a long iterable  \n",
    "  \n",
    "We will start with the first step. The goal is to return an arbitrary expansion (expansion after the decimal) of a mathematical expression. The user inputs will be the mathematical expression along with the multiplier (can be 1) and the number of digits of the expansion.\n",
    "  \n",
    "I first tried using the decimal library to expand the mathematical expression \"pi\", but I realized I was approximating pi by using the expression \"355/113\" and I could not find a more accurate way to expand pi, so I opted to use the sympy library. I used the decimal library to expand \"e\". "
   ]
  },
  {
   "cell_type": "code",
   "execution_count": 173,
   "metadata": {},
   "outputs": [],
   "source": [
    "from decimal import *\n",
    "from sympy import *\n",
    "\n",
    "def expansion(multiplier, expression, n):\n",
    "    \"\"\"\n",
    "    Input: mathematical expression, a multiplier of the expression, and number of digits of prime number\n",
    "    Behavior: expands mathematical expression\n",
    "    Output: an arbitrary expansion (specified by user) of a mathematical expressions pi or e \n",
    "    \"\"\"\n",
    "    if expression == \"pi\":\n",
    "        # N function captures number of digits, so use log formula to capture number of specified digits after decimal\n",
    "        x = N(multiplier*pi, n + log(multiplier*pi, 10) + 1)\n",
    "        # obtain digits after decimal and return as integer (integers that start with 0 will not capture 0)\n",
    "        before, after = str(x).split('.')\n",
    "        return int(after)\n",
    "    if expression == \"e\":\n",
    "        # set number of digits for expansion\n",
    "        getcontext().prec = n\n",
    "        x = (Decimal(1).exp())*multiplier\n",
    "        before, after = str(x).split('.')\n",
    "        return int(after)\n",
    "    # can only generate expansions of pi and e\n",
    "    else:\n",
    "        return \"Can not solve\""
   ]
  },
  {
   "cell_type": "markdown",
   "metadata": {},
   "source": [
    "The next step is to determine if a number is prime. Using mathematical intuition, we can loop through divisors in the range from 2 to the square root of the number rounded up using the ceiling function from the math module. For example, let's take the number 11. The square root of 11 rounded up is 4, so the loop will run from 2 to 4. The mathematical intution behind this is that a number that is not prime will have atleast one factor that is less than its square root (and one factor greater). So, if a number has no factors less than its square root, than it must be prime. "
   ]
  },
  {
   "cell_type": "code",
   "execution_count": 215,
   "metadata": {},
   "outputs": [
    {
     "name": "stdout",
     "output_type": "stream",
     "text": [
      "True\n"
     ]
    }
   ],
   "source": [
    "from math import sqrt, ceil\n",
    "\n",
    "def prime_num(n):\n",
    "    \"\"\"\n",
    "    Input: number\n",
    "    Behavior: returns true if number is prime\n",
    "    Output: true or false\n",
    "    \"\"\"\n",
    "    # prime numbers have to be greater than 1\n",
    "    if n > 1:\n",
    "        \n",
    "        # \n",
    "        for number in range(2, ceil(sqrt(n))):\n",
    "            # return to outer for loop and increment by one if input number is not divisible by number\n",
    "            if (n % number) == 0:\n",
    "                # number is not prime (divisible by a number other than one and itself)\n",
    "                return False\n",
    "        else:\n",
    "            # number is prime, so return true\n",
    "            return True\n",
    "    else: \n",
    "        # return False if number is not greater than 1\n",
    "        return False\n",
    "print(prime_num(3))"
   ]
  },
  {
   "cell_type": "markdown",
   "metadata": {},
   "source": [
    "I tried a lot of different things to generate sliding windows including using itertools, but decided that using list comprehensions would be equally succinct in accomplishing this task. "
   ]
  },
  {
   "cell_type": "code",
   "execution_count": 218,
   "metadata": {},
   "outputs": [],
   "source": [
    "def sliding_window(iterable, size):\n",
    "    \"\"\"\n",
    "    Input: integer and size of window \n",
    "    Behavior: generates sliding windows of a specified width from a long iterable\n",
    "    Output: list of windows\n",
    "    \"\"\"\n",
    "    window_list = []\n",
    "    # length of number has to be greater than the window size\n",
    "    if len(str(iterable)) >= size:\n",
    "        # make number into list of its digits\n",
    "        it_list = [str(x) for x in str(iterable)]\n",
    "        \n",
    "        # create window by grabbing element in range of current element through the elements in the size of the window\n",
    "        # create separate window as a list for each element in the list \n",
    "        windows = [it_list[x:x+size] for x in range(len(it_list) - size + 1)]\n",
    "        \n",
    "        # convert list of integers in window to a single integer and append to list\n",
    "        for window in windows:\n",
    "            a_string = \"\".join(window)\n",
    "            an_integer = int(a_string)\n",
    "            window_list.append(an_integer)\n",
    "            \n",
    "        # returns list of integers\n",
    "        return window_list\n",
    "    \n",
    "    else:\n",
    "        return \"Size of window bigger than iterable\""
   ]
  },
  {
   "cell_type": "code",
   "execution_count": 219,
   "metadata": {},
   "outputs": [
    {
     "name": "stdout",
     "output_type": "stream",
     "text": [
      "8649375157\n"
     ]
    }
   ],
   "source": [
    "def size_digit_prime(size, multiplier, expression, digits):\n",
    "    \"\"\"\n",
    "    Input: size of window, multiplier of expression, mathematical expression, and number of digits to expand\n",
    "    Behavior: returns a specified digit-length prime in the decimal expansion of a mathematical expression like pi\n",
    "    Output: number\n",
    "    \"\"\"\n",
    "    expanded = expansion(multiplier, expression, digits)\n",
    "    expansion_window = sliding_window(expanded, size)\n",
    "    for number in expansion_window:\n",
    "        # ignores numbers that start with 0\n",
    "        if len(str(number)) == 10:\n",
    "            if prime_num(number):\n",
    "                return number\n",
    "    \n",
    "print(size_digit_prime(10, 17, \"pi\", 110))"
   ]
  },
  {
   "cell_type": "code",
   "execution_count": 170,
   "metadata": {},
   "outputs": [
    {
     "name": "stderr",
     "output_type": "stream",
     "text": [
      "test_expansion (__main__.TestNotebook)\n",
      "test expansion. ... ok\n",
      "test_prime_num (__main__.TestNotebook)\n",
      "test prime_num. ... ok\n",
      "test_sliding_window (__main__.TestNotebook)\n",
      "test sliding_window. ... ok\n",
      "\n",
      "----------------------------------------------------------------------\n",
      "Ran 3 tests in 0.008s\n",
      "\n",
      "OK\n"
     ]
    },
    {
     "data": {
      "text/plain": [
       "<unittest.main.TestProgram at 0x7f210dcc68d0>"
      ]
     },
     "execution_count": 170,
     "metadata": {},
     "output_type": "execute_result"
    }
   ],
   "source": [
    "import unittest\n",
    "\n",
    "class TestNotebook(unittest.TestCase):\n",
    "    \n",
    "    def test_expansion(self):\n",
    "        \"\"\"test expansion.\"\"\"\n",
    "        self.assertEqual(expansion(1, \"pi\", 5), 14159)\n",
    "        self.assertEqual(expansion(17, \"pi\", 9), 407075111)\n",
    "        \n",
    "    def test_prime_num(self):\n",
    "        \"\"\"test prime_num.\"\"\"\n",
    "        self.assertEqual(prime_num(1), False)\n",
    "        self.assertEqual(prime_num(4159), True)\n",
    "        \n",
    "    def test_sliding_window(self):\n",
    "        \"\"\"test sliding_window.\"\"\"\n",
    "        self.assertEqual(sliding_window(407075111, 4), [4070, 707, 7075, 751, 7511, 5111])\n",
    "        self.assertEqual(sliding_window(1234, 5), \"Size of window bigger than iterable\")\n",
    "\n",
    "unittest.main(argv=[''], verbosity=2, exit=False)"
   ]
  }
 ],
 "metadata": {
  "kernelspec": {
   "display_name": "Python 3",
   "language": "python",
   "name": "python3"
  },
  "language_info": {
   "codemirror_mode": {
    "name": "ipython",
    "version": 3
   },
   "file_extension": ".py",
   "mimetype": "text/x-python",
   "name": "python",
   "nbconvert_exporter": "python",
   "pygments_lexer": "ipython3",
   "version": "3.7.8"
  }
 },
 "nbformat": 4,
 "nbformat_minor": 4
}
